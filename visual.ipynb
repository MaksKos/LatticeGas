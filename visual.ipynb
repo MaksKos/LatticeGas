{
 "cells": [
  {
   "cell_type": "code",
   "execution_count": 1,
   "id": "2ce4d137-adff-4095-acfe-870f9e7979d7",
   "metadata": {},
   "outputs": [],
   "source": [
    "import numpy as np\n",
    "from latticegas import LatticeGas as latgas"
   ]
  },
  {
   "cell_type": "code",
   "execution_count": 2,
   "id": "7c587275-ae77-4636-bed7-ebf10a476f6f",
   "metadata": {},
   "outputs": [],
   "source": [
    "variant = 7\n",
    "N = 16 "
   ]
  },
  {
   "cell_type": "code",
   "execution_count": 3,
   "id": "e5904870-b61d-4cd3-90b6-eb069aa788f2",
   "metadata": {},
   "outputs": [
    {
     "data": {
      "text/plain": [
       "(105, 90, 46)"
      ]
     },
     "execution_count": 3,
     "metadata": {},
     "output_type": "execute_result"
    }
   ],
   "source": [
    "n_x = 420\n",
    "n_y = 180\n",
    "\n",
    "xc = int(n_x/4)\n",
    "yc = int(n_y/2)\n",
    "r = int(n_x/9)\n",
    "\n",
    "xc, yc, r"
   ]
  },
  {
   "cell_type": "code",
   "execution_count": 4,
   "id": "df3a987d-28f0-46e5-b752-c78fef491d13",
   "metadata": {},
   "outputs": [],
   "source": [
    "u_lb_min = 0.01\n",
    "u_lb_max = 0.1\n",
    "Re_min = 20\n",
    "Re_max = 1000"
   ]
  },
  {
   "cell_type": "code",
   "execution_count": 5,
   "id": "e518bc9e-a81b-4920-af67-2ef041fbf9dc",
   "metadata": {},
   "outputs": [
    {
     "data": {
      "text/plain": [
       "(0.046000000000000006, 412)"
      ]
     },
     "execution_count": 5,
     "metadata": {},
     "output_type": "execute_result"
    }
   ],
   "source": [
    "u_lb = u_lb_min + (variant - 1)*(u_lb_max - u_lb_min)/(N-1)\n",
    "Re = int(Re_min + (variant - 1)*(Re_max - Re_min)/(N-1))\n",
    "\n",
    "u_lb, Re"
   ]
  },
  {
   "cell_type": "code",
   "execution_count": 6,
   "id": "86a00187-2dfb-49a3-bd5e-fbeaff4ba076",
   "metadata": {},
   "outputs": [],
   "source": [
    "parametrs = {'nx':n_x, 'ny':n_y, 'u_lb':u_lb, 'Re':Re}\n",
    "obstacle = {'xc':xc, 'yc':yc, 'r':r}"
   ]
  },
  {
   "cell_type": "code",
   "execution_count": 11,
   "id": "596f05cb-b9a6-4e75-9c64-a57caba7bb25",
   "metadata": {},
   "outputs": [],
   "source": [
    "model = latgas(parametrs, obstacle)"
   ]
  },
  {
   "cell_type": "code",
   "execution_count": 12,
   "id": "315dd345-7ab6-4e0e-a7b4-3ee4f4563932",
   "metadata": {},
   "outputs": [
    {
     "name": "stderr",
     "output_type": "stream",
     "text": [
      "E:\\PROGRAMMING PROJECT\\Python project\\BMSTU\\6th year\\LatticeGas\\latticegas.py:156: RuntimeWarning: overflow encountered in multiply\n",
      "  self.f_out[i,:,:] = self.f_in[i,:,:] - self.omega*(self.f_in[i,:,:]\\\n",
      "E:\\PROGRAMMING PROJECT\\Python project\\BMSTU\\6th year\\LatticeGas\\latticegas.py:141: RuntimeWarning: overflow encountered in multiply\n",
      "  return density*self._a[i]*(1 + 3*u@self._v[i] + 4.5*(u@self._v[i])**2 - 1.5*np.linalg.norm(u, axis=-1)**2)\n",
      "C:\\Users\\Maksim\\anaconda3\\lib\\site-packages\\numpy\\core\\fromnumeric.py:86: RuntimeWarning: overflow encountered in reduce\n",
      "  return ufunc.reduce(obj, axis, dtype, out, **passkwargs)\n",
      "E:\\PROGRAMMING PROJECT\\Python project\\BMSTU\\6th year\\LatticeGas\\latticegas.py:141: RuntimeWarning: invalid value encountered in add\n",
      "  return density*self._a[i]*(1 + 3*u@self._v[i] + 4.5*(u@self._v[i])**2 - 1.5*np.linalg.norm(u, axis=-1)**2)\n",
      "E:\\PROGRAMMING PROJECT\\Python project\\BMSTU\\6th year\\LatticeGas\\latticegas.py:141: RuntimeWarning: invalid value encountered in matmul\n",
      "  return density*self._a[i]*(1 + 3*u@self._v[i] + 4.5*(u@self._v[i])**2 - 1.5*np.linalg.norm(u, axis=-1)**2)\n",
      "E:\\PROGRAMMING PROJECT\\Python project\\BMSTU\\6th year\\LatticeGas\\latticegas.py:141: RuntimeWarning: invalid value encountered in subtract\n",
      "  return density*self._a[i]*(1 + 3*u@self._v[i] + 4.5*(u@self._v[i])**2 - 1.5*np.linalg.norm(u, axis=-1)**2)\n",
      "E:\\PROGRAMMING PROJECT\\Python project\\BMSTU\\6th year\\LatticeGas\\latticegas.py:156: RuntimeWarning: overflow encountered in subtract\n",
      "  self.f_out[i,:,:] = self.f_in[i,:,:] - self.omega*(self.f_in[i,:,:]\\\n",
      "C:\\Users\\Maksim\\anaconda3\\lib\\site-packages\\numpy\\core\\fromnumeric.py:86: RuntimeWarning: invalid value encountered in reduce\n",
      "  return ufunc.reduce(obj, axis, dtype, out, **passkwargs)\n",
      "E:\\PROGRAMMING PROJECT\\Python project\\BMSTU\\6th year\\LatticeGas\\latticegas.py:148: RuntimeWarning: invalid value encountered in add\n",
      "  self.f_in[i,0,:] = self.calc_f_eq_i(i, self.u[0,:,:], self.density[0,:]) \\\n"
     ]
    },
    {
     "name": "stdout",
     "output_type": "stream",
     "text": [
      "CPU times: total: 1min 19s\n",
      "Wall time: 1min 20s\n"
     ]
    }
   ],
   "source": [
    "%%time\n",
    "model.solve(n_step=1000)"
   ]
  },
  {
   "cell_type": "code",
   "execution_count": 13,
   "id": "9d27507b-2132-4eac-9b31-c37056b0efa0",
   "metadata": {},
   "outputs": [],
   "source": [
    "density = model.field_den\n",
    "velosity = model.field_u\n",
    "pressure = model.field_p"
   ]
  },
  {
   "cell_type": "code",
   "execution_count": null,
   "id": "980b3058-abe3-4f21-b8f7-9ce5ce6d555f",
   "metadata": {},
   "outputs": [],
   "source": [
    "np."
   ]
  }
 ],
 "metadata": {
  "kernelspec": {
   "display_name": "Python 3 (ipykernel)",
   "language": "python",
   "name": "python3"
  },
  "language_info": {
   "codemirror_mode": {
    "name": "ipython",
    "version": 3
   },
   "file_extension": ".py",
   "mimetype": "text/x-python",
   "name": "python",
   "nbconvert_exporter": "python",
   "pygments_lexer": "ipython3",
   "version": "3.9.12"
  }
 },
 "nbformat": 4,
 "nbformat_minor": 5
}
