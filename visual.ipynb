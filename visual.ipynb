{
 "cells": [
  {
   "cell_type": "code",
   "execution_count": 64,
   "id": "2ce4d137-adff-4095-acfe-870f9e7979d7",
   "metadata": {},
   "outputs": [],
   "source": [
    "import numpy as np\n",
    "from numba import njit"
   ]
  },
  {
   "cell_type": "code",
   "execution_count": 33,
   "id": "2ba375d7-107a-4c25-9f59-62998c1051b0",
   "metadata": {},
   "outputs": [],
   "source": [
    "ny = 10\n",
    "y = np.arange(ny)\n",
    "v_init = 5*(1 + 1e-4*np.sin(2*np.pi/(ny-1)*y))\n",
    "zeros = np.zeros(ny)\n",
    "u = np.array([np.column_stack((v_init, zeros)) for _ in range(5)])"
   ]
  },
  {
   "cell_type": "code",
   "execution_count": 34,
   "id": "5ffbefad-ae3f-4849-9ea9-f77d18ef6192",
   "metadata": {},
   "outputs": [
    {
     "data": {
      "text/plain": [
       "(5, 10, 2)"
      ]
     },
     "execution_count": 34,
     "metadata": {},
     "output_type": "execute_result"
    }
   ],
   "source": [
    "u.shape"
   ]
  },
  {
   "cell_type": "code",
   "execution_count": 35,
   "id": "127da027-91b6-442e-a4d0-6d2888eb21cf",
   "metadata": {},
   "outputs": [
    {
     "data": {
      "text/plain": [
       "(5, 10)"
      ]
     },
     "execution_count": 35,
     "metadata": {},
     "output_type": "execute_result"
    }
   ],
   "source": [
    "np.linalg.norm(u, axis=2).shape"
   ]
  },
  {
   "cell_type": "code",
   "execution_count": 40,
   "id": "dde2d7e7-95e1-495b-86d0-9a8b516a3fb1",
   "metadata": {},
   "outputs": [],
   "source": [
    "v = np.array([-1,-1])"
   ]
  },
  {
   "cell_type": "code",
   "execution_count": 42,
   "id": "b93ef274-d211-4cd5-be2f-e6329d2a3bd1",
   "metadata": {},
   "outputs": [
    {
     "data": {
      "text/plain": [
       "array([[-5.        , -5.00032139, -5.0004924 , -5.00043301, -5.00017101,\n",
       "        -4.99982899, -4.99956699, -4.9995076 , -4.99967861, -5.        ],\n",
       "       [-5.        , -5.00032139, -5.0004924 , -5.00043301, -5.00017101,\n",
       "        -4.99982899, -4.99956699, -4.9995076 , -4.99967861, -5.        ],\n",
       "       [-5.        , -5.00032139, -5.0004924 , -5.00043301, -5.00017101,\n",
       "        -4.99982899, -4.99956699, -4.9995076 , -4.99967861, -5.        ],\n",
       "       [-5.        , -5.00032139, -5.0004924 , -5.00043301, -5.00017101,\n",
       "        -4.99982899, -4.99956699, -4.9995076 , -4.99967861, -5.        ],\n",
       "       [-5.        , -5.00032139, -5.0004924 , -5.00043301, -5.00017101,\n",
       "        -4.99982899, -4.99956699, -4.9995076 , -4.99967861, -5.        ]])"
      ]
     },
     "execution_count": 42,
     "metadata": {},
     "output_type": "execute_result"
    }
   ],
   "source": [
    "u@v"
   ]
  },
  {
   "cell_type": "code",
   "execution_count": 44,
   "id": "5036e65a-1093-436f-af59-60c9bb9eaf76",
   "metadata": {},
   "outputs": [
    {
     "data": {
      "text/plain": [
       "array([[ True,  True,  True,  True,  True,  True,  True,  True,  True,\n",
       "         True],\n",
       "       [ True,  True,  True,  True,  True,  True,  True,  True,  True,\n",
       "         True],\n",
       "       [ True,  True,  True,  True,  True,  True,  True,  True,  True,\n",
       "         True],\n",
       "       [ True,  True,  True,  True,  True,  True,  True,  True,  True,\n",
       "         True],\n",
       "       [ True,  True,  True,  True,  True,  True,  True,  True,  True,\n",
       "         True]])"
      ]
     },
     "execution_count": 44,
     "metadata": {},
     "output_type": "execute_result"
    }
   ],
   "source": [
    "(v[0]*u[:,:,0] + v[1]*u[:,:,1]) == u@v"
   ]
  },
  {
   "cell_type": "code",
   "execution_count": 48,
   "id": "4976213c-b3a6-4cea-8fd9-2d253bbf56f1",
   "metadata": {},
   "outputs": [],
   "source": [
    "row = np.array([\n",
    "    [0,1,2,3,4,5,6,7,8],\n",
    "    [0,1,2,3,4,5,6,7,8],\n",
    "    [0,1,2,3,4,5,6,7,8],\n",
    "    [0,1,2,3,4,5,6,7,8]\n",
    "])"
   ]
  },
  {
   "cell_type": "code",
   "execution_count": 49,
   "id": "df7a7f96-a2a9-4acd-8cd7-1aeac1d67905",
   "metadata": {},
   "outputs": [],
   "source": [
    "for i in range(3):\n",
    "    row[:,8-i] = row[:,i]"
   ]
  },
  {
   "cell_type": "code",
   "execution_count": 50,
   "id": "5207456c-bd34-40ae-bb73-02223eb0b2d6",
   "metadata": {},
   "outputs": [
    {
     "data": {
      "text/plain": [
       "array([[0, 1, 2, 3, 4, 5, 2, 1, 0],\n",
       "       [0, 1, 2, 3, 4, 5, 2, 1, 0],\n",
       "       [0, 1, 2, 3, 4, 5, 2, 1, 0],\n",
       "       [0, 1, 2, 3, 4, 5, 2, 1, 0]])"
      ]
     },
     "execution_count": 50,
     "metadata": {},
     "output_type": "execute_result"
    }
   ],
   "source": [
    "row"
   ]
  },
  {
   "cell_type": "code",
   "execution_count": 66,
   "id": "65e3d5b9-063e-478e-aaea-818dfcfeae65",
   "metadata": {},
   "outputs": [],
   "source": [
    "class A:\n",
    "    \n",
    "    def __init__(self):\n",
    "        self.row = np.array([\n",
    "            [0,1,2,3,4,5,6,7,8],\n",
    "            [0,1,2,3,4,5,6,7,8],\n",
    "            [0,1,2,3,4,5,6,7,8],\n",
    "            [0,1,2,3,4,5,6,7,8]\n",
    "            ])\n",
    "    \n",
    "\n",
    "    @staticmethod\n",
    "    @njit\n",
    "    def func(row):\n",
    "        for i in range(3):\n",
    "            row[:,8-i] = row[:,i]\n",
    "            \n",
    "    def change(self):\n",
    "        self.func(self.row)"
   ]
  },
  {
   "cell_type": "code",
   "execution_count": 71,
   "id": "2f300b78-8b44-49ef-9063-fab2aca35222",
   "metadata": {},
   "outputs": [],
   "source": [
    "obj = A()"
   ]
  },
  {
   "cell_type": "code",
   "execution_count": 72,
   "id": "adc75822-db27-4298-b082-890f6379ae03",
   "metadata": {},
   "outputs": [
    {
     "data": {
      "text/plain": [
       "array([[0, 1, 2, 3, 4, 5, 6, 7, 8],\n",
       "       [0, 1, 2, 3, 4, 5, 6, 7, 8],\n",
       "       [0, 1, 2, 3, 4, 5, 6, 7, 8],\n",
       "       [0, 1, 2, 3, 4, 5, 6, 7, 8]])"
      ]
     },
     "execution_count": 72,
     "metadata": {},
     "output_type": "execute_result"
    }
   ],
   "source": [
    "obj.row"
   ]
  },
  {
   "cell_type": "code",
   "execution_count": 73,
   "id": "c565a591-0e30-4ba8-a833-14cca571759a",
   "metadata": {},
   "outputs": [],
   "source": [
    "obj.change()"
   ]
  },
  {
   "cell_type": "code",
   "execution_count": 74,
   "id": "3b1c368b-d613-49b0-96d3-6e90fbdcf0ad",
   "metadata": {},
   "outputs": [
    {
     "data": {
      "text/plain": [
       "array([[0, 1, 2, 3, 4, 5, 2, 1, 0],\n",
       "       [0, 1, 2, 3, 4, 5, 2, 1, 0],\n",
       "       [0, 1, 2, 3, 4, 5, 2, 1, 0],\n",
       "       [0, 1, 2, 3, 4, 5, 2, 1, 0]])"
      ]
     },
     "execution_count": 74,
     "metadata": {},
     "output_type": "execute_result"
    }
   ],
   "source": [
    "obj.row"
   ]
  },
  {
   "cell_type": "code",
   "execution_count": 75,
   "id": "39df9fbf-c717-457d-84ff-59c83a308fd7",
   "metadata": {},
   "outputs": [],
   "source": [
    "a = np.array([\n",
    "    np.ones((5,5)),\n",
    "    np.ones((5,5)),\n",
    "    np.ones((5,5)),\n",
    "])"
   ]
  },
  {
   "cell_type": "code",
   "execution_count": 77,
   "id": "c2134167-98de-4a93-ba19-4be87a7bffb3",
   "metadata": {},
   "outputs": [
    {
     "data": {
      "text/plain": [
       "array([[3., 3., 3., 3., 3.],\n",
       "       [3., 3., 3., 3., 3.],\n",
       "       [3., 3., 3., 3., 3.],\n",
       "       [3., 3., 3., 3., 3.],\n",
       "       [3., 3., 3., 3., 3.]])"
      ]
     },
     "execution_count": 77,
     "metadata": {},
     "output_type": "execute_result"
    }
   ],
   "source": [
    "np.sum(a, axis=0)"
   ]
  },
  {
   "cell_type": "code",
   "execution_count": 78,
   "id": "8419e905-ce36-43e8-9c74-a450e952d11c",
   "metadata": {},
   "outputs": [],
   "source": [
    "v = np.array([[1, 1], [1, 0], [1, -1], [0, 1], \n",
    "                      [0, 0], \n",
    "                      [0, -1], [-1, 1], [-1, 0], [-1, -1]])"
   ]
  },
  {
   "cell_type": "code",
   "execution_count": 115,
   "id": "37bf7882-716f-4eab-811e-d44bf645ef38",
   "metadata": {},
   "outputs": [],
   "source": [
    "f_in = np.ones((9, 10, 10))"
   ]
  },
  {
   "cell_type": "code",
   "execution_count": 94,
   "id": "0ee35b82-61e5-407c-ae22-8aa4cdd5f60b",
   "metadata": {},
   "outputs": [
    {
     "ename": "ValueError",
     "evalue": "The 'out' tuple must have exactly one entry per ufunc output",
     "output_type": "error",
     "traceback": [
      "\u001b[1;31m---------------------------------------------------------------------------\u001b[0m",
      "\u001b[1;31mValueError\u001b[0m                                Traceback (most recent call last)",
      "Input \u001b[1;32mIn [94]\u001b[0m, in \u001b[0;36m<cell line: 1>\u001b[1;34m()\u001b[0m\n\u001b[1;32m----> 1\u001b[0m \u001b[43mnp\u001b[49m\u001b[38;5;241;43m.\u001b[39;49m\u001b[43mmultiply\u001b[49m\u001b[43m(\u001b[49m\u001b[43mf_in\u001b[49m\u001b[43m,\u001b[49m\u001b[43m \u001b[49m\u001b[43mv\u001b[49m\u001b[43m,\u001b[49m\u001b[43m \u001b[49m\u001b[43mout\u001b[49m\u001b[38;5;241;43m=\u001b[39;49m\u001b[43m(\u001b[49m\u001b[38;5;241;43m9\u001b[39;49m\u001b[43m,\u001b[49m\u001b[43m \u001b[49m\u001b[38;5;241;43m10\u001b[39;49m\u001b[43m,\u001b[49m\u001b[43m \u001b[49m\u001b[38;5;241;43m10\u001b[39;49m\u001b[43m,\u001b[49m\u001b[43m \u001b[49m\u001b[38;5;241;43m2\u001b[39;49m\u001b[43m)\u001b[49m\u001b[43m)\u001b[49m\n",
      "\u001b[1;31mValueError\u001b[0m: The 'out' tuple must have exactly one entry per ufunc output"
     ]
    }
   ],
   "source": [
    "np.multiply(f_in, v, out=(9, 10, 10, 2))"
   ]
  },
  {
   "cell_type": "code",
   "execution_count": 88,
   "id": "2ad9ad67-7075-4289-ba5d-9949cca21182",
   "metadata": {},
   "outputs": [
    {
     "data": {
      "text/plain": [
       "array([1., 1., 1., 1., 1., 1., 1., 1., 1.])"
      ]
     },
     "execution_count": 88,
     "metadata": {},
     "output_type": "execute_result"
    }
   ],
   "source": [
    "f_in [:, 0, 0]"
   ]
  },
  {
   "cell_type": "code",
   "execution_count": 99,
   "id": "1be16eb8-8526-4c4c-b9aa-f87ac933369f",
   "metadata": {},
   "outputs": [
    {
     "data": {
      "text/plain": [
       "(9, 10, 10, 2)"
      ]
     },
     "execution_count": 99,
     "metadata": {},
     "output_type": "execute_result"
    }
   ],
   "source": [
    "(*f_in.shape, 2)"
   ]
  },
  {
   "cell_type": "code",
   "execution_count": 117,
   "id": "c631767d-4c8c-4459-890d-8dff30ec6e91",
   "metadata": {},
   "outputs": [
    {
     "data": {
      "text/plain": [
       "(9, 10, 10, 1)"
      ]
     },
     "execution_count": 117,
     "metadata": {},
     "output_type": "execute_result"
    }
   ],
   "source": [
    "f = f_in[:,:,:,np.newaxis]\n",
    "f.shape"
   ]
  },
  {
   "cell_type": "code",
   "execution_count": 111,
   "id": "c332f7f3-2b88-4758-88ff-a0c03d9d6c04",
   "metadata": {},
   "outputs": [
    {
     "data": {
      "text/plain": [
       "(9, 10, 10, 1)"
      ]
     },
     "execution_count": 111,
     "metadata": {},
     "output_type": "execute_result"
    }
   ],
   "source": [
    "f"
   ]
  },
  {
   "cell_type": "code",
   "execution_count": 118,
   "id": "c3267986-b019-4e71-9dfb-09685a3064f1",
   "metadata": {},
   "outputs": [],
   "source": [
    "m = np.ones((9,10, 10, 2))"
   ]
  },
  {
   "cell_type": "code",
   "execution_count": 121,
   "id": "76c364bf-6abd-4d60-a819-cac037e906e7",
   "metadata": {},
   "outputs": [
    {
     "data": {
      "text/plain": [
       "(10, 10, 2)"
      ]
     },
     "execution_count": 121,
     "metadata": {},
     "output_type": "execute_result"
    }
   ],
   "source": [
    "np.sum(m, axis=0).shape"
   ]
  },
  {
   "cell_type": "code",
   "execution_count": 124,
   "id": "7aa7096f-e1d4-4f44-bbbd-3d84f6b82035",
   "metadata": {},
   "outputs": [],
   "source": [
    "y = np.arange(10)\n",
    "v_init = 5*(1 + 1e-4*np.sin(2*np.pi/(10-1)*y))\n",
    "zeros = np.zeros(10)\n",
    "u = np.array([np.column_stack((v_init, zeros)) for _ in range(10)])"
   ]
  },
  {
   "cell_type": "code",
   "execution_count": 137,
   "id": "4a9efba4-0e78-4f64-be19-f9ed5f5e69cf",
   "metadata": {},
   "outputs": [
    {
     "data": {
      "text/plain": [
       "array([[1., 1., 1., 1., 1., 1., 1., 1., 1., 1.],\n",
       "       [1., 1., 1., 1., 1., 1., 1., 1., 1., 1.],\n",
       "       [1., 1., 1., 1., 1., 1., 1., 1., 1., 1.],\n",
       "       [1., 1., 1., 1., 1., 1., 1., 1., 1., 1.],\n",
       "       [1., 1., 1., 1., 1., 1., 1., 1., 1., 1.],\n",
       "       [1., 1., 1., 1., 1., 1., 1., 1., 1., 1.],\n",
       "       [1., 1., 1., 1., 1., 1., 1., 1., 1., 1.],\n",
       "       [1., 1., 1., 1., 1., 1., 1., 1., 1., 1.],\n",
       "       [1., 1., 1., 1., 1., 1., 1., 1., 1., 1.],\n",
       "       [1., 1., 1., 1., 1., 1., 1., 1., 1., 1.]])"
      ]
     },
     "execution_count": 137,
     "metadata": {},
     "output_type": "execute_result"
    }
   ],
   "source": [
    "index = np.array([[4,5], [7, 8], [9,0]])\n",
    "f_in[0][[0,]]"
   ]
  },
  {
   "cell_type": "code",
   "execution_count": 143,
   "id": "a8657764-261b-4649-ad9c-277fec7dfb86",
   "metadata": {},
   "outputs": [],
   "source": [
    "test = np.diag((1, 2, 3, 4, 5, 6, 7))"
   ]
  },
  {
   "cell_type": "code",
   "execution_count": 144,
   "id": "6add8c89-f7c6-4fe7-a04d-86b2f6abefed",
   "metadata": {},
   "outputs": [
    {
     "data": {
      "text/plain": [
       "array([[1, 0, 0, 0, 0, 0, 0],\n",
       "       [0, 2, 0, 0, 0, 0, 0],\n",
       "       [0, 0, 3, 0, 0, 0, 0],\n",
       "       [0, 0, 0, 4, 0, 0, 0],\n",
       "       [0, 0, 0, 0, 5, 0, 0],\n",
       "       [0, 0, 0, 0, 0, 6, 0],\n",
       "       [0, 0, 0, 0, 0, 0, 7]])"
      ]
     },
     "execution_count": 144,
     "metadata": {},
     "output_type": "execute_result"
    }
   ],
   "source": [
    "test"
   ]
  },
  {
   "cell_type": "code",
   "execution_count": 147,
   "id": "26de7f57-24c0-4d49-a5ed-17227ff4eb40",
   "metadata": {},
   "outputs": [
    {
     "data": {
      "text/plain": [
       "array([[0, 0, 2, 0, 0, 0, 0],\n",
       "       [0, 0, 0, 3, 0, 0, 0],\n",
       "       [0, 0, 0, 0, 4, 0, 0],\n",
       "       [0, 0, 0, 0, 0, 5, 0],\n",
       "       [0, 0, 0, 0, 0, 0, 6],\n",
       "       [7, 0, 0, 0, 0, 0, 0],\n",
       "       [0, 1, 0, 0, 0, 0, 0]])"
      ]
     },
     "execution_count": 147,
     "metadata": {},
     "output_type": "execute_result"
    }
   ],
   "source": [
    "np.roll(np.roll(test, 1, axis=1), -1, axis=0)"
   ]
  }
 ],
 "metadata": {
  "kernelspec": {
   "display_name": "Python 3 (ipykernel)",
   "language": "python",
   "name": "python3"
  },
  "language_info": {
   "codemirror_mode": {
    "name": "ipython",
    "version": 3
   },
   "file_extension": ".py",
   "mimetype": "text/x-python",
   "name": "python",
   "nbconvert_exporter": "python",
   "pygments_lexer": "ipython3",
   "version": "3.9.12"
  }
 },
 "nbformat": 4,
 "nbformat_minor": 5
}
